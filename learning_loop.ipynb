{
 "cells": [
  {
   "cell_type": "code",
   "execution_count": 6,
   "metadata": {},
   "outputs": [],
   "source": [
    "import numpy as np\n",
    "import pandas\n",
    "import random"
   ]
  },
  {
   "cell_type": "code",
   "execution_count": 7,
   "metadata": {},
   "outputs": [],
   "source": [
    "solvents = [\"water\", \"methanol\", \"oil\"]\n",
    "temperature = [i for i in range(0, 101, 10)]"
   ]
  },
  {
   "cell_type": "code",
   "execution_count": 8,
   "metadata": {},
   "outputs": [],
   "source": [
    "def experiment_selector(solvents, temps):\n",
    "    return (random.choice(solvents), random.choice(temps))"
   ]
  },
  {
   "cell_type": "code",
   "execution_count": 9,
   "metadata": {},
   "outputs": [],
   "source": [
    "def reaction_simulator(solvent, temp):\n",
    "    return random.randint(0,100)"
   ]
  },
  {
   "cell_type": "code",
   "execution_count": 10,
   "metadata": {},
   "outputs": [
    {
     "name": "stdout",
     "output_type": "stream",
     "text": [
      "oil 20\n",
      "28\n",
      "oil 10\n",
      "68\n",
      "water 20\n",
      "82\n",
      "oil 100\n",
      "74\n",
      "methanol 100\n",
      "98\n"
     ]
    }
   ],
   "source": [
    "yield_percent = 0\n",
    "\n",
    "while yield_percent<=95:\n",
    "    solvent,temp = experiment_selector(solvents, temperature)\n",
    "    yield_percent = reaction_simulator(solvent, temp)\n",
    "\n",
    "    print(solvent, temp)\n",
    "    print(yield_percent)"
   ]
  }
 ],
 "metadata": {
  "kernelspec": {
   "display_name": "Python 3",
   "language": "python",
   "name": "python3"
  },
  "language_info": {
   "codemirror_mode": {
    "name": "ipython",
    "version": 3
   },
   "file_extension": ".py",
   "mimetype": "text/x-python",
   "name": "python",
   "nbconvert_exporter": "python",
   "pygments_lexer": "ipython3",
   "version": "3.11.4"
  }
 },
 "nbformat": 4,
 "nbformat_minor": 2
}
